{
 "cells": [
  {
   "cell_type": "raw",
   "id": "e7dae296-5c9f-4630-b475-8c957913843c",
   "metadata": {},
   "source": [
    "---\n",
    "title: \"Computer Vision - Models\"\n",
    "author: \"Kashish Mukheja\"\n",
    "date: \"2023-05-27\"\n",
    "categories: [blogging, jupyter, Computer Vision]\n",
    "draft: true\n",
    "format:\n",
    "  html:\n",
    "    code-fold: true\n",
    "    code-summary: \"Show the code\"\n",
    "---"
   ]
  },
  {
   "cell_type": "markdown",
   "id": "e912d06b-18ff-4f43-8e13-26f4d7f54c98",
   "metadata": {},
   "source": [
    "## LeNet-5 (1998)"
   ]
  },
  {
   "cell_type": "markdown",
   "id": "b497f66d-9140-48af-aaf4-e0bb772d5304",
   "metadata": {},
   "source": [
    "1. Trying to solve handwritten digit recognizer...MNIST\n",
    "2. Invented by Yen Le Cunn\n",
    "\n",
    "### Architecture\n",
    "\n",
    "1. Contains 3 Conv + 2 Avg Pooling\n",
    "2. 1 Fully connected (FC) layer\n",
    "3. 1 FC Softmax layer\n",
    "\n",
    "Note: Pooling isn't counted as a layer\n",
    "\n",
    "#### Sequence\n",
    "Convolution (tanh) + Pooling + Convolution (tanh) + Pooling + Convolution (tanh) + FC Layer (tanh) + FC Softmax layer (Softmax)\n",
    "\n",
    "\n",
    "Trainable Parameters :"
   ]
  },
  {
   "cell_type": "code",
   "execution_count": 39,
   "id": "3f7acde3-a75e-4ff9-8b26-b4d5329cd327",
   "metadata": {
    "tags": []
   },
   "outputs": [
    {
     "data": {
      "text/latex": [
       "\\begin{align}\n",
       "\\ (\\mathbf{N} \\cdot \\mathbf{M} \\cdot \\mathbf{K} + 1) \\cdot \\mathbf(NumberOfFilters) & = 4 \\pi \\rho \\\\\n",
       "\\end{align}\n"
      ],
      "text/plain": [
       "<IPython.core.display.Latex object>"
      ]
     },
     "metadata": {},
     "output_type": "display_data"
    }
   ],
   "source": [
    "%%latex\n",
    "\\begin{align}\n",
    "\\ (\\mathbf{N} \\cdot \\mathbf{M} \\cdot \\mathbf{K} + 1) \\cdot \\mathbf(NumberOfFilters) & = 4 \\pi \\rho \\\\\n",
    "\\end{align}"
   ]
  },
  {
   "cell_type": "markdown",
   "id": "f16fe4a6-f9ad-40b0-a254-f98b597cb897",
   "metadata": {},
   "source": [
    "## AlexNet (2012)\n",
    "\n"
   ]
  },
  {
   "cell_type": "markdown",
   "id": "8ae17138-2677-470f-98f6-560e450a2329",
   "metadata": {},
   "source": [
    "1. Introduced ReLU Non-linearity\n",
    "2. Used Data Augmentation, Dropout, L2 Weight decay\n",
    "3. Improved top-5 error from 26% to 15%.\n",
    "4. Used 2 GPUs for training (GTX-580)\n",
    "\n",
    "### Architecture\n",
    "1. 5 Conv layers\n",
    "2. 3 Max Pool layers\n",
    "3. 2 FC layers\n",
    "4. 1 FC-softmax layer\n",
    "\n",
    "- Started with 4 stride, 0 Padding, 96 (11 * 11) filters"
   ]
  },
  {
   "cell_type": "markdown",
   "id": "8f078ebc-dae2-409e-9742-0f6501c47716",
   "metadata": {},
   "source": [
    "## VGG Net (2014)"
   ]
  },
  {
   "cell_type": "markdown",
   "id": "efabc39b-4caf-4d1e-b1a1-e526d771a744",
   "metadata": {},
   "source": [
    "1. Two variants: VGG-16, VGG-19\n",
    "2. Simple 3 * 3 filters\n",
    "3. L2 Regularisation used with weight decay of 5e-4\n",
    "4. Dropout Reg for the first 2 FC layer (Dropout=0.5)\n",
    "\n",
    "### Architecture\n",
    "1. 13 Conv Layer\n",
    "2. 5 Max Pooling\n",
    "3. 3 FC Layer"
   ]
  },
  {
   "cell_type": "code",
   "execution_count": null,
   "id": "9a958f20-7daf-4629-a36b-4396909dcd31",
   "metadata": {},
   "outputs": [],
   "source": []
  },
  {
   "cell_type": "code",
   "execution_count": null,
   "id": "df753dde-3df1-460b-899f-b9cc6b0d5193",
   "metadata": {},
   "outputs": [],
   "source": []
  }
 ],
 "metadata": {
  "kernelspec": {
   "display_name": "Python 3 (ipykernel)",
   "language": "python",
   "name": "python3"
  },
  "language_info": {
   "codemirror_mode": {
    "name": "ipython",
    "version": 3
   },
   "file_extension": ".py",
   "mimetype": "text/x-python",
   "name": "python",
   "nbconvert_exporter": "python",
   "pygments_lexer": "ipython3",
   "version": "3.11.3"
  }
 },
 "nbformat": 4,
 "nbformat_minor": 5
}
