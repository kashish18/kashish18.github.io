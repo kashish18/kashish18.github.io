{
 "cells": [
  {
   "cell_type": "raw",
   "id": "d3dbee84-7771-45a1-bcc4-6dffdd78a9dc",
   "metadata": {},
   "source": [
    "---\n",
    "title: \"Creating a Hello World Post using a Jupyter Notebook\"\n",
    "author: \"Kashish Mukheja\"\n",
    "date: \"2023-05-27\"\n",
    "categories: [blogging, quarto, jupyter]\n",
    "---"
   ]
  },
  {
   "cell_type": "code",
   "execution_count": 1,
   "id": "715d9132-d2d1-424c-b3d2-53fcb5cabe83",
   "metadata": {},
   "outputs": [
    {
     "name": "stdout",
     "output_type": "stream",
     "text": [
      "Hello kashish\n"
     ]
    }
   ],
   "source": [
    "print(\"Hello kashish\")"
   ]
  },
  {
   "cell_type": "code",
   "execution_count": null,
   "id": "2561e359-b0d4-4a37-9333-7f5bb2460604",
   "metadata": {},
   "outputs": [],
   "source": []
  }
 ],
 "metadata": {
  "kernelspec": {
   "display_name": "Python 3 (ipykernel)",
   "language": "python",
   "name": "python3"
  },
  "language_info": {
   "codemirror_mode": {
    "name": "ipython",
    "version": 3
   },
   "file_extension": ".py",
   "mimetype": "text/x-python",
   "name": "python",
   "nbconvert_exporter": "python",
   "pygments_lexer": "ipython3",
   "version": "3.11.3"
  }
 },
 "nbformat": 4,
 "nbformat_minor": 5
}
